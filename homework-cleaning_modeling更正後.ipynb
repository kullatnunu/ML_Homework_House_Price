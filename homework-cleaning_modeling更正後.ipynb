{
 "cells": [
  {
   "cell_type": "code",
   "execution_count": 209,
   "metadata": {
    "_cell_guid": "b1076dfc-b9ad-4769-8c92-a6c4dae69d19",
    "_uuid": "8f2839f25d086af736a60e9eeb907d3b93b6e0e5"
   },
   "outputs": [
    {
     "name": "stdout",
     "output_type": "stream",
     "text": [
      "['data_description.txt', 'sample_submission.csv', 'sample_submission.csv.gz', 'test.csv', 'test.csv.gz', 'train.csv', 'train.csv.gz']\n"
     ]
    }
   ],
   "source": [
    "# This Python 3 environment comes with many helpful analytics libraries installed\n",
    "# It is defined by the kaggle/python docker image: https://github.com/kaggle/docker-python\n",
    "# For example, here's several helpful packages to load in \n",
    "\n",
    "import numpy as np # linear algebra\n",
    "import pandas as pd # data processing, CSV file I/O (e.g. pd.read_csv)\n",
    "import matplotlib.pyplot as plt\n",
    "import seaborn as sns\n",
    "%matplotlib inline\n",
    "\n",
    "from scipy.stats import norm\n",
    "from sklearn.preprocessing import StandardScaler\n",
    "from scipy import stats\n",
    "# Input data files are available in the \"../input/\" directory.\n",
    "# For example, running this (by clicking run or pressing Shift+Enter) will list the files in the input directory\n",
    "\n",
    "import os\n",
    "print(os.listdir(\"../MLHomework/house_price\"))\n",
    "\n",
    "import warnings\n",
    "warnings.filterwarnings('ignore')\n",
    "\n",
    "# Any results you write to the current directory are saved as output."
   ]
  },
  {
   "cell_type": "code",
   "execution_count": 210,
   "metadata": {
    "_cell_guid": "79c7e3d0-c299-4dcb-8224-4455121ee9b0",
    "_uuid": "d629ff2d2480ee46fbb7e2d37f6b5fab8052498a"
   },
   "outputs": [
    {
     "name": "stdout",
     "output_type": "stream",
     "text": [
      "shape of train : (1460, 81)\n",
      "shape of test : (1459, 80)\n"
     ]
    },
    {
     "data": {
      "text/html": [
       "<div>\n",
       "<style scoped>\n",
       "    .dataframe tbody tr th:only-of-type {\n",
       "        vertical-align: middle;\n",
       "    }\n",
       "\n",
       "    .dataframe tbody tr th {\n",
       "        vertical-align: top;\n",
       "    }\n",
       "\n",
       "    .dataframe thead th {\n",
       "        text-align: right;\n",
       "    }\n",
       "</style>\n",
       "<table border=\"1\" class=\"dataframe\">\n",
       "  <thead>\n",
       "    <tr style=\"text-align: right;\">\n",
       "      <th></th>\n",
       "      <th>Id</th>\n",
       "      <th>MSSubClass</th>\n",
       "      <th>MSZoning</th>\n",
       "      <th>LotFrontage</th>\n",
       "      <th>LotArea</th>\n",
       "      <th>Street</th>\n",
       "      <th>Alley</th>\n",
       "      <th>LotShape</th>\n",
       "      <th>LandContour</th>\n",
       "      <th>Utilities</th>\n",
       "      <th>...</th>\n",
       "      <th>PoolArea</th>\n",
       "      <th>PoolQC</th>\n",
       "      <th>Fence</th>\n",
       "      <th>MiscFeature</th>\n",
       "      <th>MiscVal</th>\n",
       "      <th>MoSold</th>\n",
       "      <th>YrSold</th>\n",
       "      <th>SaleType</th>\n",
       "      <th>SaleCondition</th>\n",
       "      <th>SalePrice</th>\n",
       "    </tr>\n",
       "  </thead>\n",
       "  <tbody>\n",
       "    <tr>\n",
       "      <th>0</th>\n",
       "      <td>1</td>\n",
       "      <td>60</td>\n",
       "      <td>RL</td>\n",
       "      <td>65.0</td>\n",
       "      <td>8450</td>\n",
       "      <td>Pave</td>\n",
       "      <td>NaN</td>\n",
       "      <td>Reg</td>\n",
       "      <td>Lvl</td>\n",
       "      <td>AllPub</td>\n",
       "      <td>...</td>\n",
       "      <td>0</td>\n",
       "      <td>NaN</td>\n",
       "      <td>NaN</td>\n",
       "      <td>NaN</td>\n",
       "      <td>0</td>\n",
       "      <td>2</td>\n",
       "      <td>2008</td>\n",
       "      <td>WD</td>\n",
       "      <td>Normal</td>\n",
       "      <td>208500</td>\n",
       "    </tr>\n",
       "    <tr>\n",
       "      <th>1</th>\n",
       "      <td>2</td>\n",
       "      <td>20</td>\n",
       "      <td>RL</td>\n",
       "      <td>80.0</td>\n",
       "      <td>9600</td>\n",
       "      <td>Pave</td>\n",
       "      <td>NaN</td>\n",
       "      <td>Reg</td>\n",
       "      <td>Lvl</td>\n",
       "      <td>AllPub</td>\n",
       "      <td>...</td>\n",
       "      <td>0</td>\n",
       "      <td>NaN</td>\n",
       "      <td>NaN</td>\n",
       "      <td>NaN</td>\n",
       "      <td>0</td>\n",
       "      <td>5</td>\n",
       "      <td>2007</td>\n",
       "      <td>WD</td>\n",
       "      <td>Normal</td>\n",
       "      <td>181500</td>\n",
       "    </tr>\n",
       "    <tr>\n",
       "      <th>2</th>\n",
       "      <td>3</td>\n",
       "      <td>60</td>\n",
       "      <td>RL</td>\n",
       "      <td>68.0</td>\n",
       "      <td>11250</td>\n",
       "      <td>Pave</td>\n",
       "      <td>NaN</td>\n",
       "      <td>IR1</td>\n",
       "      <td>Lvl</td>\n",
       "      <td>AllPub</td>\n",
       "      <td>...</td>\n",
       "      <td>0</td>\n",
       "      <td>NaN</td>\n",
       "      <td>NaN</td>\n",
       "      <td>NaN</td>\n",
       "      <td>0</td>\n",
       "      <td>9</td>\n",
       "      <td>2008</td>\n",
       "      <td>WD</td>\n",
       "      <td>Normal</td>\n",
       "      <td>223500</td>\n",
       "    </tr>\n",
       "  </tbody>\n",
       "</table>\n",
       "<p>3 rows × 81 columns</p>\n",
       "</div>"
      ],
      "text/plain": [
       "   Id  MSSubClass MSZoning  LotFrontage  LotArea Street Alley LotShape  \\\n",
       "0   1          60       RL         65.0     8450   Pave   NaN      Reg   \n",
       "1   2          20       RL         80.0     9600   Pave   NaN      Reg   \n",
       "2   3          60       RL         68.0    11250   Pave   NaN      IR1   \n",
       "\n",
       "  LandContour Utilities    ...     PoolArea PoolQC Fence MiscFeature MiscVal  \\\n",
       "0         Lvl    AllPub    ...            0    NaN   NaN         NaN       0   \n",
       "1         Lvl    AllPub    ...            0    NaN   NaN         NaN       0   \n",
       "2         Lvl    AllPub    ...            0    NaN   NaN         NaN       0   \n",
       "\n",
       "  MoSold YrSold  SaleType  SaleCondition  SalePrice  \n",
       "0      2   2008        WD         Normal     208500  \n",
       "1      5   2007        WD         Normal     181500  \n",
       "2      9   2008        WD         Normal     223500  \n",
       "\n",
       "[3 rows x 81 columns]"
      ]
     },
     "execution_count": 210,
     "metadata": {},
     "output_type": "execute_result"
    }
   ],
   "source": [
    "dfTrain = pd.read_csv('../MLHomework/house_price/train.csv')\n",
    "dfTest = pd.read_csv('../MLHomework/house_price/test.csv')\n",
    "#print(train_data)\n",
    "#dfTrain.columns\n",
    "print('shape of train : {}'.format(dfTrain.shape))\n",
    "print('shape of test : {}'.format(dfTest.shape))\n",
    "dfTrain.head(3)"
   ]
  },
  {
   "cell_type": "code",
   "execution_count": 211,
   "metadata": {},
   "outputs": [],
   "source": [
    "# dfTrain.info()"
   ]
  },
  {
   "cell_type": "code",
   "execution_count": 212,
   "metadata": {
    "_uuid": "5c4541adf8647a5fcc75190a65477fbc7e9373f4"
   },
   "outputs": [
    {
     "data": {
      "text/plain": [
       "count      1460.000000\n",
       "mean     180921.195890\n",
       "std       79442.502883\n",
       "min       34900.000000\n",
       "25%      129975.000000\n",
       "50%      163000.000000\n",
       "75%      214000.000000\n",
       "max      755000.000000\n",
       "Name: SalePrice, dtype: float64"
      ]
     },
     "execution_count": 212,
     "metadata": {},
     "output_type": "execute_result"
    }
   ],
   "source": [
    "#describe data summary\n",
    "dfTrain['SalePrice'].describe()"
   ]
  },
  {
   "cell_type": "code",
   "execution_count": 213,
   "metadata": {
    "_uuid": "432b9c18c913dae94dbfcca2bf8fe41ce56b528b"
   },
   "outputs": [
    {
     "name": "stdout",
     "output_type": "stream",
     "text": [
      "              total_miss  miss_precent\n",
      "PoolQC              1453      0.995205\n",
      "MiscFeature         1406      0.963014\n",
      "Alley               1369      0.937671\n",
      "Fence               1179      0.807534\n",
      "FireplaceQu          690      0.472603\n",
      "LotFrontage          259      0.177397\n",
      "GarageCond            81      0.055479\n",
      "GarageType            81      0.055479\n",
      "GarageYrBlt           81      0.055479\n",
      "GarageFinish          81      0.055479\n",
      "GarageQual            81      0.055479\n",
      "BsmtExposure          38      0.026027\n",
      "BsmtFinType2          38      0.026027\n",
      "BsmtFinType1          37      0.025342\n",
      "BsmtCond              37      0.025342\n",
      "BsmtQual              37      0.025342\n",
      "MasVnrArea             8      0.005479\n",
      "MasVnrType             8      0.005479\n",
      "Electrical             1      0.000685\n",
      "Utilities              0      0.000000\n",
      "YearRemodAdd           0      0.000000\n",
      "MSSubClass             0      0.000000\n",
      "Foundation             0      0.000000\n",
      "ExterCond              0      0.000000\n",
      "ExterQual              0      0.000000\n",
      "Exterior2nd            0      0.000000\n",
      "Exterior1st            0      0.000000\n",
      "RoofMatl               0      0.000000\n",
      "RoofStyle              0      0.000000\n",
      "YearBuilt              0      0.000000\n"
     ]
    }
   ],
   "source": [
    "total_miss = dfTrain.isnull().sum().sort_values(ascending=False)\n",
    "miss_precent = (dfTrain.isnull().sum()/dfTrain.shape[0]).sort_values(ascending=False)\n",
    "miss_data = pd.concat([total_miss,miss_precent],axis=1,keys=['total_miss','miss_precent'])\n",
    "print(miss_data.head(30))"
   ]
  },
  {
   "cell_type": "code",
   "execution_count": 214,
   "metadata": {
    "_uuid": "432b9c18c913dae94dbfcca2bf8fe41ce56b528b"
   },
   "outputs": [],
   "source": [
    "total_miss = dfTest.isnull().sum().sort_values(ascending=False)\n",
    "miss_precent = (dfTest.isnull().sum()/dfTest.shape[0]).sort_values(ascending=False)\n",
    "miss_data = pd.concat([total_miss,miss_precent],axis=1,keys=['total_miss','miss_precent'])\n",
    "# print(miss_data.head(50))"
   ]
  },
  {
   "cell_type": "code",
   "execution_count": 215,
   "metadata": {},
   "outputs": [
    {
     "data": {
      "text/plain": [
       "<matplotlib.axes._subplots.AxesSubplot at 0x1bba1ecf860>"
      ]
     },
     "execution_count": 215,
     "metadata": {},
     "output_type": "execute_result"
    },
    {
     "data": {
      "image/png": "[encoded data removed]",
      "text/plain": [
       "<Figure size 432x288 with 1 Axes>"
      ]
     },
     "metadata": {},
     "output_type": "display_data"
    }
   ],
   "source": [
    "((dfTrain.apply(lambda x:x.unique().shape[0],axis=0)/dfTrain.shape[0]).sort_values(ascending = True).tail(30)).plot(kind='bar',rot=45)"
   ]
  },
  {
   "cell_type": "code",
   "execution_count": 216,
   "metadata": {},
   "outputs": [
    {
     "data": {
      "text/plain": [
       "<matplotlib.axes._subplots.AxesSubplot at 0x1bba3109128>"
      ]
     },
     "execution_count": 216,
     "metadata": {},
     "output_type": "execute_result"
    },
    {
     "data": {
      "image/png": "[encoded data removed]",
      "text/plain": [
       "<Figure size 432x288 with 1 Axes>"
      ]
     },
     "metadata": {},
     "output_type": "display_data"
    }
   ],
   "source": [
    "((dfTrain.apply(lambda x:x.unique().shape[0],axis=0)/dfTrain.shape[0]).sort_values(ascending = True).head(50)).plot(kind='bar',rot=45)"
   ]
  },
  {
   "cell_type": "code",
   "execution_count": 217,
   "metadata": {},
   "outputs": [
    {
     "data": {
      "text/plain": [
       "{'AllPub', 'NoSeWa'}"
      ]
     },
     "execution_count": 217,
     "metadata": {},
     "output_type": "execute_result"
    }
   ],
   "source": [
    "set(dfTrain[\"Utilities\"])"
   ]
  },
  {
   "cell_type": "code",
   "execution_count": 218,
   "metadata": {
    "_uuid": "5c4541adf8647a5fcc75190a65477fbc7e9373f4"
   },
   "outputs": [
    {
     "data": {
      "text/plain": [
       "count       1460\n",
       "unique         2\n",
       "top       AllPub\n",
       "freq        1459\n",
       "Name: Utilities, dtype: object"
      ]
     },
     "execution_count": 218,
     "metadata": {},
     "output_type": "execute_result"
    }
   ],
   "source": [
    "#describe data summary\n",
    "dfTrain['Utilities'].describe()"
   ]
  },
  {
   "cell_type": "code",
   "execution_count": 219,
   "metadata": {},
   "outputs": [
    {
     "data": {
      "text/html": [
       "<div>\n",
       "<style scoped>\n",
       "    .dataframe tbody tr th:only-of-type {\n",
       "        vertical-align: middle;\n",
       "    }\n",
       "\n",
       "    .dataframe tbody tr th {\n",
       "        vertical-align: top;\n",
       "    }\n",
       "\n",
       "    .dataframe thead th {\n",
       "        text-align: right;\n",
       "    }\n",
       "</style>\n",
       "<table border=\"1\" class=\"dataframe\">\n",
       "  <thead>\n",
       "    <tr style=\"text-align: right;\">\n",
       "      <th></th>\n",
       "      <th>Id</th>\n",
       "      <th>MSSubClass</th>\n",
       "      <th>MSZoning</th>\n",
       "      <th>LotFrontage</th>\n",
       "      <th>LotArea</th>\n",
       "      <th>Street</th>\n",
       "      <th>Alley</th>\n",
       "      <th>LotShape</th>\n",
       "      <th>LandContour</th>\n",
       "      <th>Utilities</th>\n",
       "      <th>...</th>\n",
       "      <th>PoolArea</th>\n",
       "      <th>PoolQC</th>\n",
       "      <th>Fence</th>\n",
       "      <th>MiscFeature</th>\n",
       "      <th>MiscVal</th>\n",
       "      <th>MoSold</th>\n",
       "      <th>YrSold</th>\n",
       "      <th>SaleType</th>\n",
       "      <th>SaleCondition</th>\n",
       "      <th>SalePrice</th>\n",
       "    </tr>\n",
       "  </thead>\n",
       "  <tbody>\n",
       "    <tr>\n",
       "      <th>0</th>\n",
       "      <td>1</td>\n",
       "      <td>60</td>\n",
       "      <td>RL</td>\n",
       "      <td>65.0</td>\n",
       "      <td>8450</td>\n",
       "      <td>Pave</td>\n",
       "      <td>NaN</td>\n",
       "      <td>Reg</td>\n",
       "      <td>Lvl</td>\n",
       "      <td>AllPub</td>\n",
       "      <td>...</td>\n",
       "      <td>0</td>\n",
       "      <td>NaN</td>\n",
       "      <td>NaN</td>\n",
       "      <td>NaN</td>\n",
       "      <td>0</td>\n",
       "      <td>2</td>\n",
       "      <td>2008</td>\n",
       "      <td>WD</td>\n",
       "      <td>Normal</td>\n",
       "      <td>208500</td>\n",
       "    </tr>\n",
       "    <tr>\n",
       "      <th>1</th>\n",
       "      <td>2</td>\n",
       "      <td>20</td>\n",
       "      <td>RL</td>\n",
       "      <td>80.0</td>\n",
       "      <td>9600</td>\n",
       "      <td>Pave</td>\n",
       "      <td>NaN</td>\n",
       "      <td>Reg</td>\n",
       "      <td>Lvl</td>\n",
       "      <td>AllPub</td>\n",
       "      <td>...</td>\n",
       "      <td>0</td>\n",
       "      <td>NaN</td>\n",
       "      <td>NaN</td>\n",
       "      <td>NaN</td>\n",
       "      <td>0</td>\n",
       "      <td>5</td>\n",
       "      <td>2007</td>\n",
       "      <td>WD</td>\n",
       "      <td>Normal</td>\n",
       "      <td>181500</td>\n",
       "    </tr>\n",
       "    <tr>\n",
       "      <th>2</th>\n",
       "      <td>3</td>\n",
       "      <td>60</td>\n",
       "      <td>RL</td>\n",
       "      <td>68.0</td>\n",
       "      <td>11250</td>\n",
       "      <td>Pave</td>\n",
       "      <td>NaN</td>\n",
       "      <td>IR1</td>\n",
       "      <td>Lvl</td>\n",
       "      <td>AllPub</td>\n",
       "      <td>...</td>\n",
       "      <td>0</td>\n",
       "      <td>NaN</td>\n",
       "      <td>NaN</td>\n",
       "      <td>NaN</td>\n",
       "      <td>0</td>\n",
       "      <td>9</td>\n",
       "      <td>2008</td>\n",
       "      <td>WD</td>\n",
       "      <td>Normal</td>\n",
       "      <td>223500</td>\n",
       "    </tr>\n",
       "  </tbody>\n",
       "</table>\n",
       "<p>3 rows × 81 columns</p>\n",
       "</div>"
      ],
      "text/plain": [
       "   Id  MSSubClass MSZoning  LotFrontage  LotArea Street Alley LotShape  \\\n",
       "0   1          60       RL         65.0     8450   Pave   NaN      Reg   \n",
       "1   2          20       RL         80.0     9600   Pave   NaN      Reg   \n",
       "2   3          60       RL         68.0    11250   Pave   NaN      IR1   \n",
       "\n",
       "  LandContour Utilities    ...     PoolArea PoolQC Fence MiscFeature MiscVal  \\\n",
       "0         Lvl    AllPub    ...            0    NaN   NaN         NaN       0   \n",
       "1         Lvl    AllPub    ...            0    NaN   NaN         NaN       0   \n",
       "2         Lvl    AllPub    ...            0    NaN   NaN         NaN       0   \n",
       "\n",
       "  MoSold YrSold  SaleType  SaleCondition  SalePrice  \n",
       "0      2   2008        WD         Normal     208500  \n",
       "1      5   2007        WD         Normal     181500  \n",
       "2      9   2008        WD         Normal     223500  \n",
       "\n",
       "[3 rows x 81 columns]"
      ]
     },
     "execution_count": 219,
     "metadata": {},
     "output_type": "execute_result"
    }
   ],
   "source": [
    "dfTrain.head(3)"
   ]
  },
  {
   "cell_type": "code",
   "execution_count": 220,
   "metadata": {
    "_uuid": "2d7b45a1a353e0f9f12a385204d27eaa3ddde081"
   },
   "outputs": [],
   "source": [
    "#將原檔案去除 ID 欄位\n",
    "dfTrain.drop('Id', axis = 1,inplace=True)\n",
    "dfTest.drop('Id', axis = 1,inplace=True)"
   ]
  },
  {
   "cell_type": "code",
   "execution_count": 221,
   "metadata": {},
   "outputs": [
    {
     "data": {
      "text/html": [
       "<div>\n",
       "<style scoped>\n",
       "    .dataframe tbody tr th:only-of-type {\n",
       "        vertical-align: middle;\n",
       "    }\n",
       "\n",
       "    .dataframe tbody tr th {\n",
       "        vertical-align: top;\n",
       "    }\n",
       "\n",
       "    .dataframe thead th {\n",
       "        text-align: right;\n",
       "    }\n",
       "</style>\n",
       "<table border=\"1\" class=\"dataframe\">\n",
       "  <thead>\n",
       "    <tr style=\"text-align: right;\">\n",
       "      <th></th>\n",
       "      <th>MSSubClass</th>\n",
       "      <th>MSZoning</th>\n",
       "      <th>LotFrontage</th>\n",
       "      <th>LotArea</th>\n",
       "      <th>Street</th>\n",
       "      <th>Alley</th>\n",
       "      <th>LotShape</th>\n",
       "      <th>LandContour</th>\n",
       "      <th>Utilities</th>\n",
       "      <th>LotConfig</th>\n",
       "      <th>...</th>\n",
       "      <th>PoolArea</th>\n",
       "      <th>PoolQC</th>\n",
       "      <th>Fence</th>\n",
       "      <th>MiscFeature</th>\n",
       "      <th>MiscVal</th>\n",
       "      <th>MoSold</th>\n",
       "      <th>YrSold</th>\n",
       "      <th>SaleType</th>\n",
       "      <th>SaleCondition</th>\n",
       "      <th>SalePrice</th>\n",
       "    </tr>\n",
       "  </thead>\n",
       "  <tbody>\n",
       "    <tr>\n",
       "      <th>0</th>\n",
       "      <td>60</td>\n",
       "      <td>RL</td>\n",
       "      <td>65.0</td>\n",
       "      <td>8450</td>\n",
       "      <td>Pave</td>\n",
       "      <td>NaN</td>\n",
       "      <td>Reg</td>\n",
       "      <td>Lvl</td>\n",
       "      <td>AllPub</td>\n",
       "      <td>Inside</td>\n",
       "      <td>...</td>\n",
       "      <td>0</td>\n",
       "      <td>NaN</td>\n",
       "      <td>NaN</td>\n",
       "      <td>NaN</td>\n",
       "      <td>0</td>\n",
       "      <td>2</td>\n",
       "      <td>2008</td>\n",
       "      <td>WD</td>\n",
       "      <td>Normal</td>\n",
       "      <td>208500</td>\n",
       "    </tr>\n",
       "    <tr>\n",
       "      <th>1</th>\n",
       "      <td>20</td>\n",
       "      <td>RL</td>\n",
       "      <td>80.0</td>\n",
       "      <td>9600</td>\n",
       "      <td>Pave</td>\n",
       "      <td>NaN</td>\n",
       "      <td>Reg</td>\n",
       "      <td>Lvl</td>\n",
       "      <td>AllPub</td>\n",
       "      <td>FR2</td>\n",
       "      <td>...</td>\n",
       "      <td>0</td>\n",
       "      <td>NaN</td>\n",
       "      <td>NaN</td>\n",
       "      <td>NaN</td>\n",
       "      <td>0</td>\n",
       "      <td>5</td>\n",
       "      <td>2007</td>\n",
       "      <td>WD</td>\n",
       "      <td>Normal</td>\n",
       "      <td>181500</td>\n",
       "    </tr>\n",
       "    <tr>\n",
       "      <th>2</th>\n",
       "      <td>60</td>\n",
       "      <td>RL</td>\n",
       "      <td>68.0</td>\n",
       "      <td>11250</td>\n",
       "      <td>Pave</td>\n",
       "      <td>NaN</td>\n",
       "      <td>IR1</td>\n",
       "      <td>Lvl</td>\n",
       "      <td>AllPub</td>\n",
       "      <td>Inside</td>\n",
       "      <td>...</td>\n",
       "      <td>0</td>\n",
       "      <td>NaN</td>\n",
       "      <td>NaN</td>\n",
       "      <td>NaN</td>\n",
       "      <td>0</td>\n",
       "      <td>9</td>\n",
       "      <td>2008</td>\n",
       "      <td>WD</td>\n",
       "      <td>Normal</td>\n",
       "      <td>223500</td>\n",
       "    </tr>\n",
       "  </tbody>\n",
       "</table>\n",
       "<p>3 rows × 80 columns</p>\n",
       "</div>"
      ],
      "text/plain": [
       "   MSSubClass MSZoning  LotFrontage  LotArea Street Alley LotShape  \\\n",
       "0          60       RL         65.0     8450   Pave   NaN      Reg   \n",
       "1          20       RL         80.0     9600   Pave   NaN      Reg   \n",
       "2          60       RL         68.0    11250   Pave   NaN      IR1   \n",
       "\n",
       "  LandContour Utilities LotConfig    ...     PoolArea PoolQC Fence  \\\n",
       "0         Lvl    AllPub    Inside    ...            0    NaN   NaN   \n",
       "1         Lvl    AllPub       FR2    ...            0    NaN   NaN   \n",
       "2         Lvl    AllPub    Inside    ...            0    NaN   NaN   \n",
       "\n",
       "  MiscFeature MiscVal MoSold  YrSold  SaleType  SaleCondition  SalePrice  \n",
       "0         NaN       0      2    2008        WD         Normal     208500  \n",
       "1         NaN       0      5    2007        WD         Normal     181500  \n",
       "2         NaN       0      9    2008        WD         Normal     223500  \n",
       "\n",
       "[3 rows x 80 columns]"
      ]
     },
     "execution_count": 221,
     "metadata": {},
     "output_type": "execute_result"
    }
   ],
   "source": [
    "dfTrain.head(3)"
   ]
  },
  {
   "cell_type": "code",
   "execution_count": 222,
   "metadata": {},
   "outputs": [
    {
     "data": {
      "text/plain": [
       "<matplotlib.collections.PathCollection at 0x1bba4964198>"
      ]
     },
     "execution_count": 222,
     "metadata": {},
     "output_type": "execute_result"
    },
    {
     "data": {
      "image/png": "[encoded data removed]",
      "text/plain": [
       "<Figure size 432x288 with 1 Axes>"
      ]
     },
     "metadata": {},
     "output_type": "display_data"
    }
   ],
   "source": [
    "dfTrain['SalePrice'].shape[0]\n",
    "plt.scatter(range(dfTrain['SalePrice'].shape[0]),dfTrain['SalePrice'].values)"
   ]
  },
  {
   "cell_type": "code",
   "execution_count": 223,
   "metadata": {},
   "outputs": [
    {
     "data": {
      "image/png": "[encoded data removed]",
      "text/plain": [
       "<Figure size 432x432 with 3 Axes>"
      ]
     },
     "metadata": {},
     "output_type": "display_data"
    }
   ],
   "source": [
    "g = sns.jointplot(x='GrLivArea',y='SalePrice',data=dfTrain)"
   ]
  },
  {
   "cell_type": "code",
   "execution_count": 224,
   "metadata": {},
   "outputs": [
    {
     "data": {
      "text/plain": [
       "(1456, 80)"
      ]
     },
     "execution_count": 224,
     "metadata": {},
     "output_type": "execute_result"
    }
   ],
   "source": [
    "#後面觀察後在此先刪掉離群值\n",
    "dfTrain = dfTrain.drop(dfTrain[(dfTrain['GrLivArea']>4000)].index)\n",
    "dfTrain.shape"
   ]
  },
  {
   "cell_type": "code",
   "execution_count": 225,
   "metadata": {},
   "outputs": [
    {
     "data": {
      "image/png": "[encoded data removed]",
      "text/plain": [
       "<Figure size 432x288 with 1 Axes>"
      ]
     },
     "metadata": {},
     "output_type": "display_data"
    }
   ],
   "source": [
    "plt.hist(dfTrain['SalePrice'],bins=20);"
   ]
  },
  {
   "cell_type": "code",
   "execution_count": 226,
   "metadata": {
    "_uuid": "f86746fc4d59e6257a2e3d010763f86a067de412"
   },
   "outputs": [
    {
     "data": {
      "image/png": "[encoded data removed]",
      "text/plain": [
       "<Figure size 432x288 with 1 Axes>"
      ]
     },
     "metadata": {},
     "output_type": "display_data"
    }
   ],
   "source": [
    "#對 SalePrice 使用 log(1+x) 使他趨於常態分布。\n",
    "dfTrain[\"SalePrice\"] = np.log1p(dfTrain[\"SalePrice\"])\n",
    "plt.hist(dfTrain['SalePrice'],bins=20);"
   ]
  },
  {
   "cell_type": "code",
   "execution_count": 227,
   "metadata": {
    "_uuid": "3563712e5cf9176cbb407ddce07c5b542a1145eb"
   },
   "outputs": [
    {
     "name": "stdout",
     "output_type": "stream",
     "text": [
      "rows of train are : 1456\n",
      "rows of test are : 1459\n",
      "shape of df to clean is : (2915, 79)\n"
     ]
    }
   ],
   "source": [
    "#合併Train&Test以補空值\n",
    "ntrain = dfTrain.shape[0]\n",
    "ntest = dfTest.shape[0]\n",
    "toTrain_y = dfTrain.SalePrice.values\n",
    "dfToClean = pd.concat((dfTrain, dfTest)).reset_index(drop=True)\n",
    "dfToClean.drop(['SalePrice'], axis=1, inplace=True)\n",
    "print(\"rows of train are : {}\".format(ntrain))\n",
    "print(\"rows of test are : {}\".format(ntest))\n",
    "print(\"shape of df to clean is : {}\".format(dfToClean.shape))"
   ]
  },
  {
   "cell_type": "markdown",
   "metadata": {},
   "source": [
    "## imputing missing value"
   ]
  },
  {
   "cell_type": "code",
   "execution_count": 228,
   "metadata": {},
   "outputs": [
    {
     "data": {
      "text/plain": [
       "count    2429.00000\n",
       "mean       69.12886\n",
       "std        22.71544\n",
       "min        21.00000\n",
       "25%        59.00000\n",
       "50%        68.00000\n",
       "75%        80.00000\n",
       "max       313.00000\n",
       "Name: LotFrontage, dtype: float64"
      ]
     },
     "execution_count": 228,
     "metadata": {},
     "output_type": "execute_result"
    }
   ],
   "source": [
    "dfToClean['LotFrontage'].describe()"
   ]
  },
  {
   "cell_type": "code",
   "execution_count": 229,
   "metadata": {},
   "outputs": [
    {
     "data": {
      "image/png": "[encoded data removed]",
      "text/plain": [
       "<Figure size 288x288 with 1 Axes>"
      ]
     },
     "metadata": {},
     "output_type": "display_data"
    }
   ],
   "source": [
    "g=sns.factorplot(x=\"Neighborhood\",y=\"LotFrontage\",data=dfToClean,kind='box')"
   ]
  },
  {
   "cell_type": "code",
   "execution_count": 230,
   "metadata": {
    "_uuid": "4583fad4be0b82da1d5494d4acb2e3586dafbb1f"
   },
   "outputs": [
    {
     "data": {
      "text/html": [
       "<div>\n",
       "<style scoped>\n",
       "    .dataframe tbody tr th:only-of-type {\n",
       "        vertical-align: middle;\n",
       "    }\n",
       "\n",
       "    .dataframe tbody tr th {\n",
       "        vertical-align: top;\n",
       "    }\n",
       "\n",
       "    .dataframe thead th {\n",
       "        text-align: right;\n",
       "    }\n",
       "</style>\n",
       "<table border=\"1\" class=\"dataframe\">\n",
       "  <thead>\n",
       "    <tr style=\"text-align: right;\">\n",
       "      <th></th>\n",
       "      <th>Missing Ratio</th>\n",
       "    </tr>\n",
       "  </thead>\n",
       "  <tbody>\n",
       "  </tbody>\n",
       "</table>\n",
       "</div>"
      ],
      "text/plain": [
       "Empty DataFrame\n",
       "Columns: [Missing Ratio]\n",
       "Index: []"
      ]
     },
     "execution_count": 230,
     "metadata": {},
     "output_type": "execute_result"
    }
   ],
   "source": [
    "#將房屋不存在的設施補值為'None'\n",
    "dfToClean['PoolQC']=dfToClean['PoolQC'].fillna(\"None\")\n",
    "dfToClean['MiscFeature']=dfToClean['MiscFeature'].fillna(\"None\")\n",
    "dfToClean['Alley']=dfToClean['Alley'].fillna(\"None\")\n",
    "dfToClean['Fence']=dfToClean['Fence'].fillna(\"None\")\n",
    "dfToClean['FireplaceQu']=dfToClean['FireplaceQu'].fillna(\"None\")\n",
    "\n",
    "#利用 GroupBy Neighborhood後的 LotFrontage中位數來補充 LotFrontage 之缺失值\n",
    "dfToClean['LotFrontage'] = dfToClean.groupby('Neighborhood')['LotFrontage'].transform(lambda x: x.fillna(x.median()))\n",
    "\n",
    "#車庫、地下室以及砌磚牆面相關欄位根據type補'0'or'None'\n",
    "for i in ('GarageType', 'GarageFinish', 'GarageQual', 'GarageCond','BsmtQual', 'BsmtCond', 'BsmtExposure', 'BsmtFinType1', 'BsmtFinType2'):\n",
    "    dfToClean[i] = dfToClean[i].fillna('None')\n",
    "    \n",
    "for i in ('GarageYrBlt', 'GarageArea', 'GarageCars','BsmtFinSF1', 'BsmtFinSF2', 'BsmtUnfSF','TotalBsmtSF', 'BsmtFullBath', 'BsmtHalfBath'):\n",
    "    dfToClean[i] = dfToClean[i].fillna(0)\n",
    "    \n",
    "dfToClean[\"MasVnrType\"] = dfToClean[\"MasVnrType\"].fillna(\"None\")\n",
    "dfToClean[\"MasVnrArea\"] = dfToClean[\"MasVnrArea\"].fillna(0)\n",
    "\n",
    "#MSZoning, fill in missing values with 'RL'(最常見的)\n",
    "dfToClean['MSZoning'] = dfToClean['MSZoning'].fillna(dfToClean['MSZoning'].mode()[0])\n",
    "\n",
    "dfToClean = dfToClean.drop(['Utilities'], axis=1)\n",
    "\n",
    "#Functional's NA means Typical\n",
    "dfToClean[\"Functional\"] = dfToClean[\"Functional\"].fillna(\"Typ\")\n",
    "\n",
    "dfToClean['Electrical'] = dfToClean['Electrical'].fillna(dfToClean['Electrical'].mode()[0])\n",
    "dfToClean['KitchenQual'] = dfToClean['KitchenQual'].fillna(dfToClean['KitchenQual'].mode()[0])\n",
    "dfToClean['Exterior1st'] = dfToClean['Exterior1st'].fillna(dfToClean['Exterior1st'].mode()[0])\n",
    "dfToClean['Exterior2nd'] = dfToClean['Exterior2nd'].fillna(dfToClean['Exterior2nd'].mode()[0])\n",
    "\n",
    "dfToClean['SaleType'] = dfToClean['SaleType'].fillna(dfToClean['SaleType'].mode()[0])\n",
    "\n",
    "dfToClean['MSSubClass'] = dfToClean['MSSubClass'].fillna(\"None\")\n",
    "\n",
    "#檢查是否還有缺失值\n",
    "Cleaned_na = (dfToClean.isnull().sum() / len(dfToClean)) * 100\n",
    "Cleaned_na = Cleaned_na.drop(Cleaned_na[Cleaned_na == 0].index).sort_values(ascending=False)\n",
    "missing_data = pd.DataFrame({'Missing Ratio' :Cleaned_na})\n",
    "missing_data.head()\n",
    "\n",
    "#dfToClean.head()"
   ]
  },
  {
   "cell_type": "code",
   "execution_count": 231,
   "metadata": {},
   "outputs": [
    {
     "data": {
      "image/png": "[encoded data removed]",
      "text/plain": [
       "<Figure size 432x432 with 3 Axes>"
      ]
     },
     "metadata": {},
     "output_type": "display_data"
    }
   ],
   "source": [
    "g = sns.jointplot(x='GrLivArea',y='SalePrice',data=dfTrain)"
   ]
  },
  {
   "cell_type": "code",
   "execution_count": 232,
   "metadata": {
    "_uuid": "8279d36887c20ef89ddcb743d5d4d6bdfcf99ef6"
   },
   "outputs": [],
   "source": [
    "#Feature Engineering 部分\n",
    "\n",
    "#去除離群值 (此步驟要移到前面執行)\n",
    "#train_data = train_data.drop(train_data[(train_data['GrLivArea']>4000) & (train_data['SalePrice']<300000)].index)\n",
    "\n",
    "#將數值轉換成類別變數\n",
    "dfToClean['MSSubClass'] = dfToClean['MSSubClass'].apply(str)\n",
    "dfToClean['OverallCond'] = dfToClean['OverallCond'].astype(str)\n",
    "\n",
    "#將年和月換成類別變數\n",
    "dfToClean['YrSold'] = dfToClean['YrSold'].astype(str)\n",
    "dfToClean['MoSold'] = dfToClean['MoSold'].astype(str)\n",
    "\n",
    "#對欄位進行 Label Encoding\n",
    "from sklearn.preprocessing import LabelEncoder\n",
    "cols = ('FireplaceQu', 'BsmtQual', 'BsmtCond', 'GarageQual', 'GarageCond', \n",
    "        'ExterQual', 'ExterCond','HeatingQC', 'PoolQC', 'KitchenQual', 'BsmtFinType1', \n",
    "        'BsmtFinType2', 'Functional', 'Fence', 'BsmtExposure', 'GarageFinish', 'LandSlope',\n",
    "        'LotShape', 'PavedDrive', 'Street', 'Alley', 'CentralAir', 'MSSubClass', 'OverallCond', \n",
    "        'YrSold', 'MoSold')\n",
    "#對類別特徵進行 Label Encoder\n",
    "for c in cols:\n",
    "    lbl = LabelEncoder() \n",
    "    lbl.fit(list(dfToClean[c].values)) \n",
    "    dfToClean[c] = lbl.transform(list(dfToClean[c].values))\n",
    "    \n",
    "\n",
    "#增加一欄位\n",
    "dfToClean['TotalSF'] = dfToClean['TotalBsmtSF'] + dfToClean['1stFlrSF'] + dfToClean['2ndFlrSF']"
   ]
  },
  {
   "cell_type": "code",
   "execution_count": 233,
   "metadata": {
    "_uuid": "b0b503dcf9f9cd40c557a18964606b8c3e2815a4"
   },
   "outputs": [
    {
     "name": "stdout",
     "output_type": "stream",
     "text": [
      "(2915, 220)\n",
      "(1456, 220)\n",
      "(1459, 220)\n"
     ]
    }
   ],
   "source": [
    "#進行 ONE HOT 編碼\n",
    "dfToClean = pd.get_dummies(dfToClean)\n",
    "print(dfToClean.shape)\n",
    "\n",
    "cleaned_train = dfToClean[:ntrain]\n",
    "cleaned_test = dfToClean[ntrain:] \n",
    "print(cleaned_train.shape)\n",
    "print(cleaned_test.shape)"
   ]
  },
  {
   "cell_type": "markdown",
   "metadata": {
    "_uuid": "d39d87a6296559a0e3c89fbe9d15dcf2fdd47d8f"
   },
   "source": [
    "# Modeling"
   ]
  },
  {
   "cell_type": "code",
   "execution_count": 234,
   "metadata": {
    "_uuid": "600a8f1bb5211d1cdd2f0d8b94e58fbf6b53171f"
   },
   "outputs": [],
   "source": [
    "from sklearn.linear_model import ElasticNet, Lasso,  BayesianRidge, LassoLarsIC ,LinearRegression,Ridge\n",
    "from sklearn.ensemble import RandomForestRegressor,  GradientBoostingRegressor\n",
    "from sklearn.model_selection import KFold, cross_val_score, train_test_split\n",
    "from sklearn.metrics import r2_score\n",
    "#import xgboost as xgb"
   ]
  },
  {
   "cell_type": "code",
   "execution_count": 235,
   "metadata": {
    "scrolled": true
   },
   "outputs": [
    {
     "data": {
      "text/plain": [
       "(1456, 1)"
      ]
     },
     "execution_count": 235,
     "metadata": {},
     "output_type": "execute_result"
    }
   ],
   "source": [
    "toTrain_y = pd.DataFrame(toTrain_y)\n",
    "toTrain_y.shape"
   ]
  },
  {
   "cell_type": "markdown",
   "metadata": {},
   "source": [
    "## 資料切割並準化"
   ]
  },
  {
   "cell_type": "code",
   "execution_count": 236,
   "metadata": {},
   "outputs": [],
   "source": [
    "#資料切割，80%為train,10%為val,10%為test\n",
    "X_train, X_test, y_train, y_test = train_test_split(cleaned_train, toTrain_y, test_size=0.2, random_state=1)\n",
    "\n",
    "X_test, X_val, y_test, y_val  = train_test_split(X_test, y_test, test_size=0.5, random_state=1)"
   ]
  },
  {
   "cell_type": "code",
   "execution_count": 237,
   "metadata": {},
   "outputs": [
    {
     "data": {
      "text/plain": [
       "((1164, 220), (146, 220))"
      ]
     },
     "execution_count": 237,
     "metadata": {},
     "output_type": "execute_result"
    }
   ],
   "source": [
    "X_train.shape , X_val.shape"
   ]
  },
  {
   "cell_type": "code",
   "execution_count": 238,
   "metadata": {},
   "outputs": [
    {
     "name": "stdout",
     "output_type": "stream",
     "text": [
      "(1164, 220) (1164, 1)\n",
      "(146, 220) (146, 1)\n",
      "(146, 220) (146, 1)\n"
     ]
    }
   ],
   "source": [
    "print(X_train.shape , y_train.shape)\n",
    "print(X_val.shape , y_val.shape)\n",
    "print(X_test.shape , y_test.shape)"
   ]
  },
  {
   "cell_type": "code",
   "execution_count": 88,
   "metadata": {},
   "outputs": [],
   "source": [
    "# #標準化\n",
    "# scaler = StandardScaler()\n",
    "# scaler = scaler.fit(X_train)\n",
    "\n",
    "# X_train = scaler.transform(X_train)\n",
    "# X_test = scaler.transform(X_test)\n",
    "# X_val = scaler.transform(X_val)"
   ]
  },
  {
   "cell_type": "markdown",
   "metadata": {},
   "source": [
    "## Lasso regression"
   ]
  },
  {
   "cell_type": "code",
   "execution_count": 54,
   "metadata": {
    "_uuid": "2e10342d3e39f96ff0539c49b3dcbb3b0323bf69"
   },
   "outputs": [
    {
     "name": "stdout",
     "output_type": "stream",
     "text": [
      "   alpha        r2                                          regressor\n",
      "0  0.001  0.907329  Lasso(alpha=0.001, copy_X=True, fit_intercept=...\n",
      "1  0.002  0.878748  Lasso(alpha=0.002, copy_X=True, fit_intercept=...\n",
      "2  0.003  0.845383  Lasso(alpha=0.003, copy_X=True, fit_intercept=...\n",
      "3  0.004  0.816698  Lasso(alpha=0.004, copy_X=True, fit_intercept=...\n",
      "4  0.005  0.793531  Lasso(alpha=0.005, copy_X=True, fit_intercept=...\n",
      "5  0.010  0.664813  Lasso(alpha=0.01, copy_X=True, fit_intercept=T...\n",
      "6  0.050 -0.000019  Lasso(alpha=0.05, copy_X=True, fit_intercept=T...\n",
      "7  0.100 -0.000019  Lasso(alpha=0.1, copy_X=True, fit_intercept=Tr...\n",
      "-------------------------------\n",
      "alpha of the best model is 0.001\n",
      "best model's r2 of val is 0.9073\n",
      "best model's r2 of test is 0.9196\n"
     ]
    }
   ],
   "source": [
    "alphaSpace = [0.001,0.002,0.003,0.004,0.005,0.01,0.05,0.1]\n",
    "modles = []\n",
    "for a in alphaSpace:\n",
    "    regressor = Lasso(alpha=a,max_iter=1000000)\n",
    "    model_L = regressor.fit(X_train,y_train)\n",
    "    pred_y = model_L.predict(X_val)\n",
    "    r2 = r2_score(y_val,pred_y)\n",
    "    modles.append((a,r2,model_L))\n",
    "#print(\"r2 of val is {:.4f}\".format(r2_score(y_val,pred_y)))\n",
    "sorted_models = pd.DataFrame(modles,columns=['alpha','r2','regressor']).sort_values('r2',ascending=False).reindex()\n",
    "print(sorted_models)\n",
    "#print(sorted_models['alpha'].iloc[0])\n",
    "print('-------------------------------')\n",
    "print(\"alpha of the best model is {}\".format(sorted_models['alpha'].iloc[0]))\n",
    "pred_val_y = sorted_models['regressor'].iloc[0].predict(X_val)\n",
    "print(\"best model's r2 of val is {:.4f}\".format(r2_score(y_val,pred_val_y)))\n",
    "pred_test_y = sorted_models['regressor'].iloc[0].predict(X_test)\n",
    "print(\"best model's r2 of test is {:.4f}\".format(r2_score(y_test,pred_test_y)))"
   ]
  },
  {
   "cell_type": "code",
   "execution_count": 55,
   "metadata": {},
   "outputs": [
    {
     "name": "stdout",
     "output_type": "stream",
     "text": [
      "[0.85747779 0.90633079 0.89662585 0.88518573 0.88609372 0.87898228\n",
      " 0.87970994 0.89401567 0.87361584 0.88809376]\n"
     ]
    }
   ],
   "source": [
    "#best_model交叉驗證\n",
    "best_model = sorted_models['regressor'].iloc[0]\n",
    "CVscores = cross_val_score(estimator=best_model, X=cleaned_train,y=toTrain_y,cv=10)\n",
    "print(CVscores)"
   ]
  },
  {
   "cell_type": "code",
   "execution_count": 56,
   "metadata": {},
   "outputs": [
    {
     "name": "stdout",
     "output_type": "stream",
     "text": [
      "CV score : 0.8846 +/- 0.013\n"
     ]
    }
   ],
   "source": [
    "print('CV score : {:.4} +/- {:.3f}'.format(np.mean(CVscores),np.std(CVscores)))"
   ]
  },
  {
   "cell_type": "markdown",
   "metadata": {},
   "source": [
    "## Ridge regression"
   ]
  },
  {
   "cell_type": "code",
   "execution_count": 57,
   "metadata": {},
   "outputs": [
    {
     "name": "stdout",
     "output_type": "stream",
     "text": [
      "    alpha        r2                                          regressor\n",
      "6   500.0  0.912044  Ridge(alpha=500, copy_X=True, fit_intercept=Tr...\n",
      "5   400.0  0.911744  Ridge(alpha=400, copy_X=True, fit_intercept=Tr...\n",
      "7  1000.0  0.906955  Ridge(alpha=1000, copy_X=True, fit_intercept=T...\n",
      "4   100.0  0.900304  Ridge(alpha=100, copy_X=True, fit_intercept=Tr...\n",
      "3    30.0  0.889046  Ridge(alpha=30, copy_X=True, fit_intercept=Tru...\n",
      "2    10.0  0.881523  Ridge(alpha=10, copy_X=True, fit_intercept=Tru...\n",
      "1     5.0  0.877550  Ridge(alpha=5.0, copy_X=True, fit_intercept=Tr...\n",
      "0     1.0  0.870766  Ridge(alpha=1.0, copy_X=True, fit_intercept=Tr...\n",
      "-------------------------------\n",
      "alpha of the best model is 500.0\n",
      "best model's r2 of val is 0.9120\n",
      "best model's r2 of test is 0.9145\n"
     ]
    }
   ],
   "source": [
    "alphaSpace = [1.0,5.0,10,30,100,400,500,1000]\n",
    "modles = []\n",
    "for a in alphaSpace:\n",
    "    regressor = Ridge(alpha = a,max_iter=1000000)\n",
    "    model_R = regressor.fit(X_train,y_train)\n",
    "    pred_y = model_R.predict(X_val)\n",
    "    r2 = r2_score(y_val,pred_y)\n",
    "    modles.append((a,r2,model_R))\n",
    "#print(\"r2 of val is {:.4f}\".format(r2_score(y_val,pred_y)))\n",
    "sorted_models = pd.DataFrame(modles,columns=['alpha','r2','regressor']).sort_values('r2',ascending=False)\n",
    "print(sorted_models)\n",
    "#print(sorted_models['alpha'].iloc[0])\n",
    "print('-------------------------------')\n",
    "print(\"alpha of the best model is {}\".format(sorted_models['alpha'].iloc[0]))\n",
    "pred_val_y = sorted_models['regressor'].iloc[0].predict(X_val)\n",
    "print(\"best model's r2 of val is {:.4f}\".format(r2_score(y_val,pred_val_y)))\n",
    "pred_test_y = sorted_models['regressor'].iloc[0].predict(X_test)\n",
    "print(\"best model's r2 of test is {:.4f}\".format(r2_score(y_test,pred_test_y)))\n",
    "#print(\"alpha of the best model is {}\".format(sorted_models['alpha'].iloc[0]))\n",
    "         \n",
    "#pred_test_y = sorted_models['regressor'].iloc[0].predict(X_test)  \n",
    "#print(\"best model's r2 of test is {:.4f}\".format(r2_score(pred_test_y,y_test)))"
   ]
  },
  {
   "cell_type": "code",
   "execution_count": 58,
   "metadata": {},
   "outputs": [
    {
     "name": "stdout",
     "output_type": "stream",
     "text": [
      "CV score : 0.8965 +/- 0.013\n"
     ]
    }
   ],
   "source": [
    "#交叉驗證\n",
    "best_model = sorted_models['regressor'].iloc[0]\n",
    "CVscores = cross_val_score(estimator=best_model, X=cleaned_train,y=toTrain_y,cv=10)\n",
    "print('CV score : {:.4} +/- {:.3f}'.format(np.mean(CVscores),np.std(CVscores)))"
   ]
  },
  {
   "cell_type": "markdown",
   "metadata": {},
   "source": [
    "## ElasticNet regression"
   ]
  },
  {
   "cell_type": "code",
   "execution_count": 47,
   "metadata": {},
   "outputs": [
    {
     "name": "stdout",
     "output_type": "stream",
     "text": [
      "   alpha        r2                                          regressor\n",
      "0  0.005  0.898494  ElasticNet(alpha=0.005, copy_X=True, fit_inter...\n",
      "1  0.010  0.889953  ElasticNet(alpha=0.01, copy_X=True, fit_interc...\n",
      "2  0.050  0.879245  ElasticNet(alpha=0.05, copy_X=True, fit_interc...\n",
      "3  0.100  0.857775  ElasticNet(alpha=0.1, copy_X=True, fit_interce...\n",
      "-------------------------------\n",
      "alpha of the best model is 0.005\n",
      "best model's r2 of val is 0.8985\n",
      "best model's r2 of test is 0.9204\n"
     ]
    }
   ],
   "source": [
    "alphaSpace = [0.005,0.01,0.05,0.1]\n",
    "modles = []\n",
    "for a in alphaSpace:\n",
    "    regressor = ElasticNet(alpha = a,max_iter=1000000)\n",
    "    model_E = regressor.fit(X_train,y_train)\n",
    "    pred_y = model_E.predict(X_val)\n",
    "    r2 = r2_score(y_val,pred_y)\n",
    "    modles.append((a,r2,model_E))\n",
    "#print(\"r2 of val is {:.4f}\".format(r2_score(y_val,pred_y)))\n",
    "sorted_models = pd.DataFrame(modles,columns=['alpha','r2','regressor']).sort_values('r2',ascending=False)\n",
    "print(sorted_models)\n",
    "#print(sorted_models['alpha'].iloc[0])\n",
    "print('-------------------------------')\n",
    "print(\"alpha of the best model is {}\".format(sorted_models['alpha'].iloc[0]))\n",
    "pred_val_y = sorted_models['regressor'].iloc[0].predict(X_val)\n",
    "print(\"best model's r2 of val is {:.4f}\".format(r2_score(y_val,pred_val_y)))\n",
    "pred_test_y = sorted_models['regressor'].iloc[0].predict(X_test)\n",
    "print(\"best model's r2 of test is {:.4f}\".format(r2_score(y_test,pred_test_y)))\n",
    "#print(\"alpha of the best model is {}\".format(sorted_models['alpha'].iloc[0]))\n",
    "         \n",
    "#pred_test_y = sorted_models['regressor'].iloc[0].predict(X_test)  \n",
    "#print(\"best model's r2 of test is {:.4f}\".format(r2_score(pred_test_y,y_test)))"
   ]
  },
  {
   "cell_type": "code",
   "execution_count": 48,
   "metadata": {},
   "outputs": [
    {
     "name": "stdout",
     "output_type": "stream",
     "text": [
      "CV score : 0.9059 +/- 0.013\n"
     ]
    }
   ],
   "source": [
    "#交叉驗證\n",
    "best_model = sorted_models['regressor'].iloc[0]\n",
    "CVscores = cross_val_score(estimator=best_model, X=cleaned_train,y=toTrain_y,cv=10)\n",
    "print('CV score : {:.4} +/- {:.3f}'.format(np.mean(CVscores),np.std(CVscores)))"
   ]
  },
  {
   "cell_type": "markdown",
   "metadata": {},
   "source": [
    "## RandomForestRegression"
   ]
  },
  {
   "cell_type": "code",
   "execution_count": 133,
   "metadata": {},
   "outputs": [],
   "source": [
    "from sklearn.metrics import classification_report\n",
    "from sklearn import tree\n",
    "from sklearn.ensemble.forest import RandomForestRegressor"
   ]
  },
  {
   "cell_type": "code",
   "execution_count": 134,
   "metadata": {},
   "outputs": [
    {
     "data": {
      "text/plain": [
       "RandomForestRegressor(bootstrap=True, criterion='mse', max_depth=None,\n",
       "           max_features='auto', max_leaf_nodes=None,\n",
       "           min_impurity_decrease=0.0, min_impurity_split=None,\n",
       "           min_samples_leaf=1, min_samples_split=2,\n",
       "           min_weight_fraction_leaf=0.0, n_estimators=10, n_jobs=1,\n",
       "           oob_score=False, random_state=None, verbose=0, warm_start=False)"
      ]
     },
     "execution_count": 134,
     "metadata": {},
     "output_type": "execute_result"
    }
   ],
   "source": [
    "clf = RandomForestRegressor()\n",
    "clf"
   ]
  },
  {
   "cell_type": "markdown",
   "metadata": {},
   "source": [
    "做隨機森林驗證資料(validation data)不需要存在,故我們把驗證資料和訓練資料合併"
   ]
  },
  {
   "cell_type": "code",
   "execution_count": 135,
   "metadata": {},
   "outputs": [],
   "source": [
    "trainXNew = np.concatenate([X_train,X_val],axis=0)\n",
    "trainYNew = np.concatenate([y_train,y_val],axis=0)"
   ]
  },
  {
   "cell_type": "markdown",
   "metadata": {},
   "source": [
    "驗證資料有沒有合併成功:"
   ]
  },
  {
   "cell_type": "code",
   "execution_count": 136,
   "metadata": {},
   "outputs": [],
   "source": [
    "assert X_val.shape[0]+X_train.shape[0] == trainXNew.shape[0]\n",
    "assert y_val.shape[0]+y_train.shape[0] == trainYNew.shape[0]"
   ]
  },
  {
   "cell_type": "code",
   "execution_count": 137,
   "metadata": {},
   "outputs": [
    {
     "name": "stdout",
     "output_type": "stream",
     "text": [
      "[526 224 158 ... 436 193 236]\n",
      "continuous\n",
      "multiclass\n",
      "multiclass\n"
     ]
    }
   ],
   "source": [
    "from sklearn import preprocessing\n",
    "from sklearn import utils\n",
    "lab_enc = preprocessing.LabelEncoder()\n",
    "trainYNew_encoded = lab_enc.fit_transform(trainYNew)\n",
    "print(trainYNew_encoded)\n",
    "print(utils.multiclass.type_of_target(trainYNew))\n",
    "print(utils.multiclass.type_of_target(trainYNew.astype('int')))\n",
    "print(utils.multiclass.type_of_target(trainYNew_encoded))"
   ]
  },
  {
   "cell_type": "code",
   "execution_count": 138,
   "metadata": {},
   "outputs": [],
   "source": [
    "clf = RandomForestRegressor(oob_score=True, n_estimators=100,n_jobs=-1, max_features=0.3)\n",
    "model=clf.fit(trainXNew,trainYNew_encoded)"
   ]
  },
  {
   "cell_type": "code",
   "execution_count": 139,
   "metadata": {},
   "outputs": [
    {
     "data": {
      "text/plain": [
       "0.901156578843901"
      ]
     },
     "execution_count": 139,
     "metadata": {},
     "output_type": "execute_result"
    }
   ],
   "source": [
    "#找最佳n_estimators數量\n",
    "model.oob_score_"
   ]
  },
  {
   "cell_type": "code",
   "execution_count": 140,
   "metadata": {},
   "outputs": [],
   "source": [
    "max_features = [.1,.3,.5,.7,.9,.99]\n",
    "test_scores = []\n",
    "for max_feat in max_features:\n",
    "    clf = RandomForestRegressor(n_estimators = 200,max_features = max_feat)\n",
    "    test_score = cross_val_score(clf,trainXNew,trainYNew_encoded,cv = 5)\n",
    "    test_scores.append(np.mean(test_score))\n"
   ]
  },
  {
   "cell_type": "code",
   "execution_count": 143,
   "metadata": {},
   "outputs": [
    {
     "data": {
      "text/plain": [
       "[0.9006199436135095,\n",
       " 0.9022173404906741,\n",
       " 0.9013000387406237,\n",
       " 0.900546465563999,\n",
       " 0.8971269720818456,\n",
       " 0.8970210537481172]"
      ]
     },
     "execution_count": 143,
     "metadata": {},
     "output_type": "execute_result"
    }
   ],
   "source": [
    "test_scores"
   ]
  },
  {
   "cell_type": "code",
   "execution_count": 144,
   "metadata": {},
   "outputs": [
    {
     "data": {
      "image/png": "[encoded data removed]",
      "text/plain": [
       "<Figure size 432x288 with 1 Axes>"
      ]
     },
     "metadata": {},
     "output_type": "display_data"
    }
   ],
   "source": [
    "plt.plot(max_features,test_scores)\n",
    "plt.title('Max Features vs CV Error')\n",
    "plt.show()"
   ]
  },
  {
   "cell_type": "markdown",
   "metadata": {},
   "source": [
    "# XGBOOST"
   ]
  },
  {
   "cell_type": "code",
   "execution_count": 239,
   "metadata": {},
   "outputs": [
    {
     "data": {
      "text/plain": [
       "'0.80'"
      ]
     },
     "execution_count": 239,
     "metadata": {},
     "output_type": "execute_result"
    }
   ],
   "source": [
    "import xgboost as xgb\n",
    "xgb.__version__"
   ]
  },
  {
   "cell_type": "code",
   "execution_count": 240,
   "metadata": {},
   "outputs": [],
   "source": [
    "trainX,testX,trainY,testY=train_test_split(cleaned_train, toTrain_y,\n",
    "                                           test_size=0.3)"
   ]
  },
  {
   "cell_type": "code",
   "execution_count": 241,
   "metadata": {},
   "outputs": [
    {
     "name": "stdout",
     "output_type": "stream",
     "text": [
      "size of the train data (x):\t (1019, 220)\n",
      "size of the train data (x):\t (1019, 1)\n",
      "size of the test data (y):\t (437, 220)\n",
      "size of the test data (y):\t (437, 1)\n"
     ]
    }
   ],
   "source": [
    "# 確認一下資料形狀\n",
    "print('size of the train data (x):\\t',trainX.shape)\n",
    "print('size of the train data (x):\\t',trainY.shape)\n",
    "print('size of the test data (y):\\t',testX.shape)\n",
    "print('size of the test data (y):\\t',testY.shape)"
   ]
  },
  {
   "cell_type": "code",
   "execution_count": 242,
   "metadata": {},
   "outputs": [],
   "source": [
    "# 將資料存成xgboost要求的型態\n",
    "data_train = xgb.DMatrix( trainX, label=trainY)\n",
    "data_test  = xgb.DMatrix( testX, label=testY)"
   ]
  },
  {
   "cell_type": "code",
   "execution_count": 243,
   "metadata": {},
   "outputs": [
    {
     "name": "stdout",
     "output_type": "stream",
     "text": [
      "[16:22:54] Tree method is selected to be 'hist', which uses a single updater grow_fast_histmaker.\n",
      "Wall time: 839 ms\n"
     ]
    }
   ],
   "source": [
    "%%time\n",
    "\n",
    "#給予模型參數，告知演算法該如何訓練模型\n",
    "param = {}\n",
    "param['objective'] = 'reg:linear' # 做線性回歸\n",
    "param['tree_method'] = 'hist'\n",
    "param['silent']=1\n",
    "param['max_depth']=10\n",
    "eval_list  = [(data_train,'train'),(data_test,'test')]\n",
    "num_round = 50\n",
    "eval_history={}\n",
    "\n",
    "# 訓練模型\n",
    "model = xgb.train( param, data_train, num_round,eval_list,\n",
    "                  evals_result=eval_history,verbose_eval=False)"
   ]
  },
  {
   "cell_type": "code",
   "execution_count": 244,
   "metadata": {},
   "outputs": [],
   "source": [
    "rmse_train=eval_history['train']['rmse']\n",
    "rmse_test=eval_history['test']['rmse']"
   ]
  },
  {
   "cell_type": "code",
   "execution_count": 245,
   "metadata": {},
   "outputs": [
    {
     "data": {
      "image/png": "[encoded data removed]",
      "text/plain": [
       "<Figure size 432x288 with 1 Axes>"
      ]
     },
     "metadata": {},
     "output_type": "display_data"
    }
   ],
   "source": [
    "plt.plot(rmse_train,ms=10,marker='.',label='train_eval')\n",
    "plt.plot(rmse_test,ms=10,marker='v',label='test_eval')\n",
    "plt.legend()\n",
    "plt.show()"
   ]
  },
  {
   "cell_type": "code",
   "execution_count": 246,
   "metadata": {},
   "outputs": [
    {
     "data": {
      "text/plain": [
       "'[0]\\teval-rmse:0.143384'"
      ]
     },
     "execution_count": 246,
     "metadata": {},
     "output_type": "execute_result"
    }
   ],
   "source": [
    "# 檢視最後rms error\n",
    "model.eval(data_test)"
   ]
  },
  {
   "cell_type": "markdown",
   "metadata": {},
   "source": [
    "## 檢視各欄位重要性"
   ]
  },
  {
   "cell_type": "code",
   "execution_count": 247,
   "metadata": {},
   "outputs": [
    {
     "data": {
      "image/png": "[encoded data removed]",
      "text/plain": [
       "<Figure size 432x288 with 1 Axes>"
      ]
     },
     "metadata": {},
     "output_type": "display_data"
    }
   ],
   "source": [
    "from xgboost import plot_importance\n",
    "plot_importance(model)\n",
    "plt.show()"
   ]
  },
  {
   "cell_type": "markdown",
   "metadata": {},
   "source": [
    "##  以$R^2$評估回歸結果"
   ]
  },
  {
   "cell_type": "code",
   "execution_count": 248,
   "metadata": {},
   "outputs": [
    {
     "data": {
      "text/plain": [
       "0.8779811735749261"
      ]
     },
     "execution_count": 248,
     "metadata": {},
     "output_type": "execute_result"
    }
   ],
   "source": [
    "from sklearn.metrics import r2_score\n",
    "testY_pred=model.predict(data_test)\n",
    "r2_score(testY, testY_pred)"
   ]
  },
  {
   "cell_type": "code",
   "execution_count": 249,
   "metadata": {},
   "outputs": [
    {
     "data": {
      "text/plain": [
       "0.9999052047630652"
      ]
     },
     "execution_count": 249,
     "metadata": {},
     "output_type": "execute_result"
    }
   ],
   "source": [
    "trainY_pred = model.predict(data_train)\n",
    "r2_score(trainY, trainY_pred)"
   ]
  },
  {
   "cell_type": "code",
   "execution_count": 256,
   "metadata": {},
   "outputs": [
    {
     "data": {
      "text/plain": [
       "array([11.805003, 12.008353, 12.208228, ..., 11.972662, 11.705996,\n",
       "       12.415446], dtype=float32)"
      ]
     },
     "execution_count": 256,
     "metadata": {},
     "output_type": "execute_result"
    }
   ],
   "source": [
    "data_test  = xgb.DMatrix( cleaned_test)\n",
    "pre_y = model.predict(data_test)\n",
    "pre_y"
   ]
  },
  {
   "cell_type": "code",
   "execution_count": null,
   "metadata": {},
   "outputs": [],
   "source": []
  },
  {
   "cell_type": "markdown",
   "metadata": {},
   "source": [
    "## XGBRegressor"
   ]
  },
  {
   "cell_type": "code",
   "execution_count": 291,
   "metadata": {},
   "outputs": [],
   "source": [
    "from sklearn.metrics import make_scorer, r2_score ,mean_squared_error\n",
    "\n",
    "def rmsle(y, y_pred):\n",
    "    return np.sqrt(mean_squared_error(y, y_pred))"
   ]
  },
  {
   "cell_type": "code",
   "execution_count": 292,
   "metadata": {},
   "outputs": [
    {
     "name": "stdout",
     "output_type": "stream",
     "text": [
      "0.08010082748848854\n"
     ]
    }
   ],
   "source": [
    "from sklearn.model_selection import GridSearchCV\n",
    "from xgboost.sklearn import XGBRegressor\n",
    "\n",
    "learn = []\n",
    "best_reg_xgb = XGBRegressor(learning_rate= 0.01, n_estimators = 5000, \n",
    "                    max_depth= 4, min_child_weight = 1.5, gamma = 0.1, \n",
    "                   subsample = 0.7, colsample_bytree = 0.6, \n",
    "                   seed = 27)\n",
    "\n",
    "best_reg_xgb.fit(cleaned_train, toTrain_y)\n",
    "pred_y_XGB = best_reg_xgb.predict(cleaned_train)\n",
    "print (rmsle(pred_y_XGB, toTrain_y))"
   ]
  },
  {
   "cell_type": "code",
   "execution_count": null,
   "metadata": {},
   "outputs": [],
   "source": []
  },
  {
   "cell_type": "code",
   "execution_count": null,
   "metadata": {},
   "outputs": [],
   "source": [
    "import xgboost as xgb\n",
    "model_xgb = xgb.XGBRegressor(n_estimators=360, max_depth=4, learning_rate=0.1, min_child_weight=1.5, colsample_bytree=0.6, subsample=0.7,MSE=0.0156)\n",
    "model_xgb.fit(cleaned_train, toTrain_y)\n",
    "xgb_preds = np.expm1(model_xgb.predict(cleaned_test))"
   ]
  },
  {
   "cell_type": "code",
   "execution_count": 284,
   "metadata": {},
   "outputs": [
    {
     "data": {
      "text/plain": [
       "0.9720275467287146"
      ]
     },
     "execution_count": 284,
     "metadata": {},
     "output_type": "execute_result"
    }
   ],
   "source": [
    "testY_pred=model_xgb.predict(X_test)\n",
    "r2_score(y_test, testY_pred)"
   ]
  },
  {
   "cell_type": "code",
   "execution_count": 285,
   "metadata": {},
   "outputs": [],
   "source": [
    "xgb_preds = np.expm1(model_xgb.predict(cleaned_test))"
   ]
  },
  {
   "cell_type": "code",
   "execution_count": 286,
   "metadata": {},
   "outputs": [
    {
     "data": {
      "text/plain": [
       "array([118581.58, 161888.61, 188061.98, ..., 158405.3 , 120998.85,\n",
       "       223040.9 ], dtype=float32)"
      ]
     },
     "execution_count": 286,
     "metadata": {},
     "output_type": "execute_result"
    }
   ],
   "source": [
    "xgb_preds"
   ]
  },
  {
   "cell_type": "code",
   "execution_count": null,
   "metadata": {},
   "outputs": [],
   "source": []
  }
 ],
 "metadata": {
  "kernelspec": {
   "display_name": "Python 3",
   "language": "python",
   "name": "python3"
  },
  "language_info": {
   "codemirror_mode": {
    "name": "ipython",
    "version": 3
   },
   "file_extension": ".py",
   "mimetype": "text/x-python",
   "name": "python",
   "nbconvert_exporter": "python",
   "pygments_lexer": "ipython3",
   "version": "3.6.5"
  }
 },
 "nbformat": 4,
 "nbformat_minor": 1
}
